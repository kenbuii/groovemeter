{
  "nbformat": 4,
  "nbformat_minor": 0,
  "metadata": {
    "colab": {
      "provenance": [],
      "include_colab_link": true
    },
    "kernelspec": {
      "name": "python3",
      "display_name": "Python 3"
    },
    "language_info": {
      "name": "python"
    }
  },
  "cells": [
    {
      "cell_type": "markdown",
      "metadata": {
        "id": "view-in-github",
        "colab_type": "text"
      },
      "source": [
        "<a href=\"https://colab.research.google.com/github/kenbuii/groovemeter/blob/main/DATASCI_FINAL_PROJECT.ipynb\" target=\"_parent\"><img src=\"https://colab.research.google.com/assets/colab-badge.svg\" alt=\"Open In Colab\"/></a>"
      ]
    },
    {
      "cell_type": "markdown",
      "source": [
        "# Final Project for DATASCI 112:\n",
        "Authors: Kenneth Bui and Amaryllis Gao\n",
        "\n",
        "In this project, we aim to classify the *danceability* of a song based on a series of input features, and build a short webapp by which users can input their own Spotify User IDs and receive a short danceability score report.\n"
      ],
      "metadata": {
        "id": "FOVOUH_4ig1T"
      }
    },
    {
      "cell_type": "code",
      "source": [
        "# import packages\n",
        "import os\n",
        "import json\n",
        "import requests\n",
        "import pandas as pd"
      ],
      "metadata": {
        "id": "yn7NX01eifg_"
      },
      "execution_count": null,
      "outputs": []
    },
    {
      "cell_type": "markdown",
      "source": [
        "# Data Collection: authorizing Spotify API calls"
      ],
      "metadata": {
        "id": "lQv2c0FOlK0i"
      }
    },
    {
      "cell_type": "code",
      "source": [
        "import requests\n",
        "from requests.auth import HTTPBasicAuth\n",
        "\n",
        "client_id = '3a2eb5e7563c465b8b53a32606874631'\n",
        "client_secret = 'aa4ebcf9312146cb8a67cb65d2a17a64'\n",
        "\n",
        "auth_url = 'https://accounts.spotify.com/api/token'\n",
        "auth_data = {\n",
        "    'grant_type': 'client_credentials'\n",
        "}\n",
        "auth_response = requests.post(auth_url, data=auth_data, auth=HTTPBasicAuth(client_id, client_secret))\n",
        "\n",
        "if auth_response.status_code == 200:\n",
        "    access_token = auth_response.json()['access_token']\n"
      ],
      "metadata": {
        "id": "LoQBlZ_Lk1iD"
      },
      "execution_count": null,
      "outputs": []
    },
    {
      "cell_type": "code",
      "source": [
        "access_token"
      ],
      "metadata": {
        "colab": {
          "base_uri": "https://localhost:8080/",
          "height": 35
        },
        "id": "CRb-WMykk68b",
        "outputId": "423b0567-3cb5-490b-ab90-61bd0bf7b117"
      },
      "execution_count": null,
      "outputs": [
        {
          "output_type": "execute_result",
          "data": {
            "text/plain": [
              "'BQCxyLQsSHqSY8jBdQ7hgtmdDtrGlVtKehw2kMlD9Z9E6wMjJdJ3VR4IyPzeVM1qpCYk-yBqUv4vB7l_VKcM-0jNoRHHXipU3xH8QLuaOhoIFh9N11Q'"
            ],
            "application/vnd.google.colaboratory.intrinsic+json": {
              "type": "string"
            }
          },
          "metadata": {},
          "execution_count": 3
        }
      ]
    },
    {
      "cell_type": "markdown",
      "source": [
        "# Making API calls\n"
      ],
      "metadata": {
        "id": "_1M6N6d3d48e"
      }
    },
    {
      "cell_type": "code",
      "source": [
        "def get_data(url: str, access_token: str, verbose: bool = False):\n",
        "    response = requests.get(url, headers={'Authorization': access_token})\n",
        "    result = json.loads(response.text)\n",
        "\n",
        "    if verbose:\n",
        "        print('Response body:\\n', result)\n",
        "\n",
        "    return result"
      ],
      "metadata": {
        "id": "D5JnrsNmd31I"
      },
      "execution_count": null,
      "outputs": []
    },
    {
      "cell_type": "markdown",
      "source": [
        "# Data Collection: Getting Tracks\n"
      ],
      "metadata": {
        "id": "AcBcoN6ZeAT0"
      }
    },
    {
      "cell_type": "code",
      "source": [
        "def get_tracks(genres_list: list, steps: int, limit: int, offset: int, access_token: str):\n",
        "    tracks_df = pd.DataFrame()\n",
        "    _initial_offset = offset\n",
        "\n",
        "    for genre in genres_list:\n",
        "\n",
        "        for step in range(steps):\n",
        "            url = 'https://api.spotify.com/v1/search?q=genre:{}&type=track&limit={}&offset={}'.format(genre, limit, offset)\n",
        "            search_item = get_data(url, access_token)\n",
        "\n",
        "            for n in range(limit):\n",
        "                track_id = search_item['tracks']['items'][n]['id']\n",
        "                track_name = search_item['tracks']['items'][n]['name']\n",
        "                artist_name = search_item['tracks']['items'][n]['artists'][0]['name']\n",
        "                popularity = search_item['tracks']['items'][n]['popularity']\n",
        "\n",
        "                tracks_df = tracks_df.append({\n",
        "                    'track_id': track_id,\n",
        "                    'track_name': track_name,\n",
        "                    'artist_name': artist_name,\n",
        "                    'popularity': popularity,\n",
        "                    'genre': genre\n",
        "                }, ignore_index=True)\n",
        "\n",
        "            offset += limit\n",
        "        offset = _initial_offset\n",
        "\n",
        "    return tracks_df\n"
      ],
      "metadata": {
        "id": "tVQh9zhHd_lu"
      },
      "execution_count": null,
      "outputs": []
    },
    {
      "cell_type": "markdown",
      "source": [
        "# Data Collection: Genre and Artists\n",
        "Here, we scrape the Spotify API to find the top 10 artists for the following genres:\n",
        "\n",
        "1.   Pop\n",
        "1.   Indie\n",
        "2.   R&B\n",
        "\n",
        "We remove duplicates from each category, and extract the top 10 songs of each artist."
      ],
      "metadata": {
        "id": "P5su7c83igR8"
      }
    },
    {
      "cell_type": "code",
      "execution_count": null,
      "metadata": {
        "id": "lTxJxTkMiadf"
      },
      "outputs": [],
      "source": [
        "import requests\n",
        "\n",
        "# Define a function to get the top artists for a genre\n",
        "def get_top_artists_for_genre(access_token, genre, limit=10):\n",
        "    url = f\"https://api.spotify.com/v1/search?type=artist&limit={limit}&q=genre:\\\"{genre}\\\"\"\n",
        "    headers = {\n",
        "        \"Authorization\": f\"Bearer {access_token}\"\n",
        "    }\n",
        "    response = requests.get(url, headers=headers)\n",
        "    response_json = response.json()\n",
        "    if 'artists' not in response_json:\n",
        "        print('Error fetching artists:', response_json)\n",
        "        return None  # Add an error check\n",
        "    return response_json['artists']['items']\n",
        "\n",
        "# Define a function to get the top tracks for an artist\n",
        "def get_top_tracks_for_artist(access_token, artist_id, limit=50):\n",
        "    url = f\"https://api.spotify.com/v1/artists/{artist_id}/top-tracks?market=US\"  # Use 'market' instead of 'country'\n",
        "    headers = {\n",
        "        \"Authorization\": f\"Bearer {access_token}\"\n",
        "    }\n",
        "    response = requests.get(url, headers=headers)\n",
        "    response_json = response.json()\n",
        "    if 'tracks' not in response_json:\n",
        "        print('Error fetching tracks:', response_json)\n",
        "        return None  # Add an error check\n",
        "    return response_json['tracks']\n",
        "\n",
        "\n",
        "# NOTE: may need to update token from next runtime due to expiration\n",
        "# Use your access token from the authorization step\n",
        "access_token = 'BQBaAQckIrCLwoCJyPnLXkWDhlrRWPMyiuBEjiZsTSsc9w5Pdn-IEAx0bC5zFSeJteIfIKgoIBEUIZkLXhqJB9bhVEQGeeHo8yRh9SKQ13giFw8gsb4'  # Make sure to use the actual access token\n"
      ]
    },
    {
      "cell_type": "markdown",
      "source": [
        "# Getting Top 10 Pop"
      ],
      "metadata": {
        "id": "MMugPh2WkbHB"
      }
    },
    {
      "cell_type": "code",
      "source": [
        "import requests\n",
        "\n",
        "def get_top_artists_for_genre(access_token, genre, limit=10):\n",
        "    url = f\"https://api.spotify.com/v1/search?type=artist&limit={limit}&q=genre:\\\"{genre}\\\"\"\n",
        "    headers = {\"Authorization\": f\"Bearer {access_token}\"}\n",
        "    response = requests.get(url, headers=headers)\n",
        "    response_json = response.json()\n",
        "    if 'artists' not in response_json:\n",
        "        print('Error fetching artists:', response_json.get('error', 'Unknown Error'))\n",
        "        return []\n",
        "    return response_json['artists']['items']\n",
        "\n",
        "access_token = 'BQBaAQckIrCLwoCJyPnLXkWDhlrRWPMyiuBEjiZsTSsc9w5Pdn-IEAx0bC5zFSeJteIfIKgoIBEUIZkLXhqJB9bhVEQGeeHo8yRh9SKQ13giFw8gsb4'\n",
        "genres = ['pop', 'indie', 'R&B']\n",
        "all_genres_top_artists = {}\n",
        "\n",
        "# Get top artists from all genres\n",
        "for genre in genres:\n",
        "    print(f\"Processing genre: {genre}\")\n",
        "    top_artists = get_top_artists_for_genre(access_token, genre)\n",
        "    unique_artists = {}\n",
        "\n",
        "    for artist in top_artists:\n",
        "        artist_id = artist['id']\n",
        "        artist_name = artist['name']\n",
        "        artist_popularity = artist['popularity']\n",
        "\n",
        "        # Check if this artist is already recorded in other genres\n",
        "        if artist_id not in unique_artists and artist_id not in all_genres_top_artists:\n",
        "            unique_artists[artist_id] = {'name': artist_name, 'popularity': artist_popularity}\n",
        "        elif artist_id in all_genres_top_artists and artist_popularity > all_genres_top_artists[artist_id]['popularity']:\n",
        "            unique_artists[artist_id] = {'name': artist_name, 'popularity': artist_popularity}\n",
        "\n",
        "    # Sort the unique artists by popularity and take the top 10 for the current genre\n",
        "    sorted_unique_artists = sorted(unique_artists.values(), key=lambda x: x['popularity'], reverse=True)[:10]\n",
        "    all_genres_top_artists.update(unique_artists)  # Update the main list with the unique artists for this genre\n",
        "\n",
        "    # Output the top artists for the genre\n",
        "    print(f\"Top artists for {genre} genre:\")\n",
        "    for artist in sorted_unique_artists:\n",
        "        print(f\"- {artist['name']} (Popularity: {artist['popularity']})\")\n",
        "    print(\"\\n\")\n",
        "\n",
        "# At this point, `all_genres_top_artists` holds the unique top 10 artists for each genre, avoiding duplicates\n"
      ],
      "metadata": {
        "colab": {
          "base_uri": "https://localhost:8080/"
        },
        "id": "ZPUHSnEd1szi",
        "outputId": "0b9b139b-76c0-47aa-8517-1b9eab309483"
      },
      "execution_count": null,
      "outputs": [
        {
          "output_type": "stream",
          "name": "stdout",
          "text": [
            "Processing genre: pop\n",
            "Error fetching artists: {'status': 401, 'message': 'The access token expired'}\n",
            "Top artists for pop genre:\n",
            "\n",
            "\n",
            "Processing genre: indie\n",
            "Error fetching artists: {'status': 401, 'message': 'The access token expired'}\n",
            "Top artists for indie genre:\n",
            "\n",
            "\n",
            "Processing genre: R&B\n",
            "Error fetching artists: {'status': 401, 'message': 'The access token expired'}\n",
            "Top artists for R&B genre:\n",
            "\n",
            "\n"
          ]
        }
      ]
    },
    {
      "cell_type": "code",
      "source": [
        "def search_artist_id(access_token, artist_name):\n",
        "    url = f\"https://api.spotify.com/v1/search?q={artist_name}&type=artist\"\n",
        "    headers = {\"Authorization\": f\"Bearer {access_token}\"}\n",
        "    response = requests.get(url, headers=headers)\n",
        "    response_json = response.json()\n",
        "\n",
        "    if response.status_code != 200:\n",
        "        print('Error searching for artist:', response_json.get('error', {}).get('message', 'Unknown Error'))\n",
        "        return None\n",
        "\n",
        "    artists = response_json.get('artists', {}).get('items', [])\n",
        "    if artists:\n",
        "        # Assuming we want the first search result\n",
        "        return artists[0]['id']\n",
        "    else:\n",
        "        print(f\"No artist found for name: {artist_name}\")\n",
        "        return None\n",
        "\n",
        "access_token = 'BQBaAQckIrCLwoCJyPnLXkWDhlrRWPMyiuBEjiZsTSsc9w5Pdn-IEAx0bC5zFSeJteIfIKgoIBEUIZkLXhqJB9bhVEQGeeHo8yRh9SKQ13giFw8gsb4'\n",
        "artist_names = ['Taylor Swift', 'Drake', \"The Weeknd\", \"Ariana Grande\", \"Sza\", \"Lana Del Rey\", \"Rihanna\", \"Ty Dolla $ign\", \"Olivia Rodrigo\", \"Lil Wayne\"]\n",
        "\n",
        "artist_ids = {}\n",
        "\n",
        "for artist_name in artist_names:\n",
        "    artist_id = search_artist_id(access_token, artist_name)\n",
        "    if artist_id:\n",
        "        artist_ids[artist_name] = artist_id\n",
        "\n",
        "# Now you have a dictionary of artist names to artist IDs\n",
        "chicken = artist_ids.values()\n",
        "chicken"
      ],
      "metadata": {
        "colab": {
          "base_uri": "https://localhost:8080/"
        },
        "id": "qAZk36-bHif_",
        "outputId": "84d57ed4-a69e-480e-db9e-b11d9268a99c"
      },
      "execution_count": null,
      "outputs": [
        {
          "output_type": "stream",
          "name": "stdout",
          "text": [
            "Error searching for artist: The access token expired\n",
            "Error searching for artist: The access token expired\n",
            "Error searching for artist: The access token expired\n",
            "Error searching for artist: The access token expired\n",
            "Error searching for artist: The access token expired\n",
            "Error searching for artist: The access token expired\n",
            "Error searching for artist: The access token expired\n",
            "Error searching for artist: The access token expired\n",
            "Error searching for artist: The access token expired\n",
            "Error searching for artist: The access token expired\n"
          ]
        },
        {
          "output_type": "execute_result",
          "data": {
            "text/plain": [
              "dict_values([])"
            ]
          },
          "metadata": {},
          "execution_count": 8
        }
      ]
    },
    {
      "cell_type": "code",
      "source": [
        "import requests\n",
        "\n",
        "def get_top_tracks_for_artist(access_token, artist_id, market='US', limit=10):\n",
        "    url = f\"https://api.spotify.com/v1/artists/{artist_id}/top-tracks?market={market}\"\n",
        "    headers = {\"Authorization\": f\"Bearer {access_token}\"}\n",
        "    response = requests.get(url, headers=headers)\n",
        "    response_json = response.json()\n",
        "    if 'tracks' not in response_json:\n",
        "        print('Error fetching tracks:', response_json.get('error', 'Unknown Error'))\n",
        "        return []\n",
        "    return response_json['tracks']\n",
        "\n",
        "def get_audio_features_for_track(access_token, track_id):\n",
        "    url = f\"https://api.spotify.com/v1/audio-features/{track_id}\"\n",
        "    headers = {\"Authorization\": f\"Bearer {access_token}\"}\n",
        "    response = requests.get(url, headers=headers)\n",
        "    response_json = response.json()\n",
        "    if 'error' in response_json:\n",
        "        print('Error fetching audio features:', response_json.get('error', {}).get('message', 'Unknown Error'))\n",
        "        return {}\n",
        "    return response_json\n",
        "\n",
        "# Example usage\n",
        "access_token = 'BQBaAQckIrCLwoCJyPnLXkWDhlrRWPMyiuBEjiZsTSsc9w5Pdn-IEAx0bC5zFSeJteIfIKgoIBEUIZkLXhqJB9bhVEQGeeHo8yRh9SKQ13giFw8gsb4'  # Replace with your actual access token\n",
        "artist_ids = chicken\n",
        "# This dictionary will store all the information\n",
        "all_tracks_info = {}\n",
        "\n",
        "for artist_id in artist_ids:\n",
        "    top_tracks = get_top_tracks_for_artist(access_token, artist_id)\n",
        "    all_tracks_info[artist_id] = []\n",
        "\n",
        "    for track in top_tracks:\n",
        "        track_info = {\n",
        "            'name': track['name'],\n",
        "            'popularity': track['popularity'],\n",
        "            'id': track['id']\n",
        "        }\n",
        "        audio_features = get_audio_features_for_track(access_token, track['id'])\n",
        "\n",
        "        # Add audio features to the track informationD\n",
        "        track_info.update(audio_features)\n",
        "\n",
        "        # Append the track information to the artist's list of tracks\n",
        "        all_tracks_info[artist_id].append(track_info)\n",
        "\n",
        "# Now `all_tracks_info` contains all the information\n",
        "# You can process this information further as needed\n",
        "track_info = all_tracks_info\n"
      ],
      "metadata": {
        "id": "H_IGh4ralTxg"
      },
      "execution_count": null,
      "outputs": []
    },
    {
      "cell_type": "code",
      "source": [
        "track_info"
      ],
      "metadata": {
        "colab": {
          "base_uri": "https://localhost:8080/"
        },
        "id": "-BDf48nmII2P",
        "outputId": "c3bc17ee-de7b-4d52-b45c-90011902082d"
      },
      "execution_count": null,
      "outputs": [
        {
          "output_type": "execute_result",
          "data": {
            "text/plain": [
              "{}"
            ]
          },
          "metadata": {},
          "execution_count": 10
        }
      ]
    },
    {
      "cell_type": "code",
      "source": [
        "tracks_list = [track for tracks in all_tracks_info.values() for track in tracks]\n",
        "\n",
        "# Create a DataFrame from the list of dictionaries\n",
        "pop_df = pd.DataFrame(tracks_list)\n",
        "\n",
        "# Display the DataFrame to ensure it's correct\n",
        "pop_df.head()"
      ],
      "metadata": {
        "colab": {
          "base_uri": "https://localhost:8080/",
          "height": 53
        },
        "id": "fuDyjTolQ9OJ",
        "outputId": "737560a9-7365-4ba6-fb7b-89701071b5d9"
      },
      "execution_count": null,
      "outputs": [
        {
          "output_type": "execute_result",
          "data": {
            "text/plain": [
              "Empty DataFrame\n",
              "Columns: []\n",
              "Index: []"
            ],
            "text/html": [
              "\n",
              "  <div id=\"df-0b559487-bb3d-47f4-a9fe-3097701bcc63\" class=\"colab-df-container\">\n",
              "    <div>\n",
              "<style scoped>\n",
              "    .dataframe tbody tr th:only-of-type {\n",
              "        vertical-align: middle;\n",
              "    }\n",
              "\n",
              "    .dataframe tbody tr th {\n",
              "        vertical-align: top;\n",
              "    }\n",
              "\n",
              "    .dataframe thead th {\n",
              "        text-align: right;\n",
              "    }\n",
              "</style>\n",
              "<table border=\"1\" class=\"dataframe\">\n",
              "  <thead>\n",
              "    <tr style=\"text-align: right;\">\n",
              "      <th></th>\n",
              "    </tr>\n",
              "  </thead>\n",
              "  <tbody>\n",
              "  </tbody>\n",
              "</table>\n",
              "</div>\n",
              "    <div class=\"colab-df-buttons\">\n",
              "\n",
              "  <div class=\"colab-df-container\">\n",
              "    <button class=\"colab-df-convert\" onclick=\"convertToInteractive('df-0b559487-bb3d-47f4-a9fe-3097701bcc63')\"\n",
              "            title=\"Convert this dataframe to an interactive table.\"\n",
              "            style=\"display:none;\">\n",
              "\n",
              "  <svg xmlns=\"http://www.w3.org/2000/svg\" height=\"24px\" viewBox=\"0 -960 960 960\">\n",
              "    <path d=\"M120-120v-720h720v720H120Zm60-500h600v-160H180v160Zm220 220h160v-160H400v160Zm0 220h160v-160H400v160ZM180-400h160v-160H180v160Zm440 0h160v-160H620v160ZM180-180h160v-160H180v160Zm440 0h160v-160H620v160Z\"/>\n",
              "  </svg>\n",
              "    </button>\n",
              "\n",
              "  <style>\n",
              "    .colab-df-container {\n",
              "      display:flex;\n",
              "      gap: 12px;\n",
              "    }\n",
              "\n",
              "    .colab-df-convert {\n",
              "      background-color: #E8F0FE;\n",
              "      border: none;\n",
              "      border-radius: 50%;\n",
              "      cursor: pointer;\n",
              "      display: none;\n",
              "      fill: #1967D2;\n",
              "      height: 32px;\n",
              "      padding: 0 0 0 0;\n",
              "      width: 32px;\n",
              "    }\n",
              "\n",
              "    .colab-df-convert:hover {\n",
              "      background-color: #E2EBFA;\n",
              "      box-shadow: 0px 1px 2px rgba(60, 64, 67, 0.3), 0px 1px 3px 1px rgba(60, 64, 67, 0.15);\n",
              "      fill: #174EA6;\n",
              "    }\n",
              "\n",
              "    .colab-df-buttons div {\n",
              "      margin-bottom: 4px;\n",
              "    }\n",
              "\n",
              "    [theme=dark] .colab-df-convert {\n",
              "      background-color: #3B4455;\n",
              "      fill: #D2E3FC;\n",
              "    }\n",
              "\n",
              "    [theme=dark] .colab-df-convert:hover {\n",
              "      background-color: #434B5C;\n",
              "      box-shadow: 0px 1px 3px 1px rgba(0, 0, 0, 0.15);\n",
              "      filter: drop-shadow(0px 1px 2px rgba(0, 0, 0, 0.3));\n",
              "      fill: #FFFFFF;\n",
              "    }\n",
              "  </style>\n",
              "\n",
              "    <script>\n",
              "      const buttonEl =\n",
              "        document.querySelector('#df-0b559487-bb3d-47f4-a9fe-3097701bcc63 button.colab-df-convert');\n",
              "      buttonEl.style.display =\n",
              "        google.colab.kernel.accessAllowed ? 'block' : 'none';\n",
              "\n",
              "      async function convertToInteractive(key) {\n",
              "        const element = document.querySelector('#df-0b559487-bb3d-47f4-a9fe-3097701bcc63');\n",
              "        const dataTable =\n",
              "          await google.colab.kernel.invokeFunction('convertToInteractive',\n",
              "                                                    [key], {});\n",
              "        if (!dataTable) return;\n",
              "\n",
              "        const docLinkHtml = 'Like what you see? Visit the ' +\n",
              "          '<a target=\"_blank\" href=https://colab.research.google.com/notebooks/data_table.ipynb>data table notebook</a>'\n",
              "          + ' to learn more about interactive tables.';\n",
              "        element.innerHTML = '';\n",
              "        dataTable['output_type'] = 'display_data';\n",
              "        await google.colab.output.renderOutput(dataTable, element);\n",
              "        const docLink = document.createElement('div');\n",
              "        docLink.innerHTML = docLinkHtml;\n",
              "        element.appendChild(docLink);\n",
              "      }\n",
              "    </script>\n",
              "  </div>\n",
              "\n",
              "    </div>\n",
              "  </div>\n"
            ],
            "application/vnd.google.colaboratory.intrinsic+json": {
              "type": "dataframe",
              "variable_name": "pop_df",
              "summary": "{\n  \"name\": \"pop_df\",\n  \"rows\": 0,\n  \"fields\": []\n}"
            }
          },
          "metadata": {},
          "execution_count": 11
        }
      ]
    },
    {
      "cell_type": "code",
      "source": [
        "tracks_list = [track for tracks in all_tracks_info.values() for track in tracks]\n",
        "\n",
        "# Create a DataFrame from the list of dictionaries\n",
        "indie_df = pd.DataFrame(tracks_list)\n",
        "\n",
        "# Display the DataFrame to ensure it's correct\n",
        "indie_df.head()"
      ],
      "metadata": {
        "colab": {
          "base_uri": "https://localhost:8080/",
          "height": 53
        },
        "id": "WmzOUxynQvhh",
        "outputId": "6bffd385-0bc8-4baa-efe0-887fc5dd79c0"
      },
      "execution_count": null,
      "outputs": [
        {
          "output_type": "execute_result",
          "data": {
            "text/plain": [
              "Empty DataFrame\n",
              "Columns: []\n",
              "Index: []"
            ],
            "text/html": [
              "\n",
              "  <div id=\"df-8545fa9f-6b38-40cb-8d73-8440025312ea\" class=\"colab-df-container\">\n",
              "    <div>\n",
              "<style scoped>\n",
              "    .dataframe tbody tr th:only-of-type {\n",
              "        vertical-align: middle;\n",
              "    }\n",
              "\n",
              "    .dataframe tbody tr th {\n",
              "        vertical-align: top;\n",
              "    }\n",
              "\n",
              "    .dataframe thead th {\n",
              "        text-align: right;\n",
              "    }\n",
              "</style>\n",
              "<table border=\"1\" class=\"dataframe\">\n",
              "  <thead>\n",
              "    <tr style=\"text-align: right;\">\n",
              "      <th></th>\n",
              "    </tr>\n",
              "  </thead>\n",
              "  <tbody>\n",
              "  </tbody>\n",
              "</table>\n",
              "</div>\n",
              "    <div class=\"colab-df-buttons\">\n",
              "\n",
              "  <div class=\"colab-df-container\">\n",
              "    <button class=\"colab-df-convert\" onclick=\"convertToInteractive('df-8545fa9f-6b38-40cb-8d73-8440025312ea')\"\n",
              "            title=\"Convert this dataframe to an interactive table.\"\n",
              "            style=\"display:none;\">\n",
              "\n",
              "  <svg xmlns=\"http://www.w3.org/2000/svg\" height=\"24px\" viewBox=\"0 -960 960 960\">\n",
              "    <path d=\"M120-120v-720h720v720H120Zm60-500h600v-160H180v160Zm220 220h160v-160H400v160Zm0 220h160v-160H400v160ZM180-400h160v-160H180v160Zm440 0h160v-160H620v160ZM180-180h160v-160H180v160Zm440 0h160v-160H620v160Z\"/>\n",
              "  </svg>\n",
              "    </button>\n",
              "\n",
              "  <style>\n",
              "    .colab-df-container {\n",
              "      display:flex;\n",
              "      gap: 12px;\n",
              "    }\n",
              "\n",
              "    .colab-df-convert {\n",
              "      background-color: #E8F0FE;\n",
              "      border: none;\n",
              "      border-radius: 50%;\n",
              "      cursor: pointer;\n",
              "      display: none;\n",
              "      fill: #1967D2;\n",
              "      height: 32px;\n",
              "      padding: 0 0 0 0;\n",
              "      width: 32px;\n",
              "    }\n",
              "\n",
              "    .colab-df-convert:hover {\n",
              "      background-color: #E2EBFA;\n",
              "      box-shadow: 0px 1px 2px rgba(60, 64, 67, 0.3), 0px 1px 3px 1px rgba(60, 64, 67, 0.15);\n",
              "      fill: #174EA6;\n",
              "    }\n",
              "\n",
              "    .colab-df-buttons div {\n",
              "      margin-bottom: 4px;\n",
              "    }\n",
              "\n",
              "    [theme=dark] .colab-df-convert {\n",
              "      background-color: #3B4455;\n",
              "      fill: #D2E3FC;\n",
              "    }\n",
              "\n",
              "    [theme=dark] .colab-df-convert:hover {\n",
              "      background-color: #434B5C;\n",
              "      box-shadow: 0px 1px 3px 1px rgba(0, 0, 0, 0.15);\n",
              "      filter: drop-shadow(0px 1px 2px rgba(0, 0, 0, 0.3));\n",
              "      fill: #FFFFFF;\n",
              "    }\n",
              "  </style>\n",
              "\n",
              "    <script>\n",
              "      const buttonEl =\n",
              "        document.querySelector('#df-8545fa9f-6b38-40cb-8d73-8440025312ea button.colab-df-convert');\n",
              "      buttonEl.style.display =\n",
              "        google.colab.kernel.accessAllowed ? 'block' : 'none';\n",
              "\n",
              "      async function convertToInteractive(key) {\n",
              "        const element = document.querySelector('#df-8545fa9f-6b38-40cb-8d73-8440025312ea');\n",
              "        const dataTable =\n",
              "          await google.colab.kernel.invokeFunction('convertToInteractive',\n",
              "                                                    [key], {});\n",
              "        if (!dataTable) return;\n",
              "\n",
              "        const docLinkHtml = 'Like what you see? Visit the ' +\n",
              "          '<a target=\"_blank\" href=https://colab.research.google.com/notebooks/data_table.ipynb>data table notebook</a>'\n",
              "          + ' to learn more about interactive tables.';\n",
              "        element.innerHTML = '';\n",
              "        dataTable['output_type'] = 'display_data';\n",
              "        await google.colab.output.renderOutput(dataTable, element);\n",
              "        const docLink = document.createElement('div');\n",
              "        docLink.innerHTML = docLinkHtml;\n",
              "        element.appendChild(docLink);\n",
              "      }\n",
              "    </script>\n",
              "  </div>\n",
              "\n",
              "    </div>\n",
              "  </div>\n"
            ],
            "application/vnd.google.colaboratory.intrinsic+json": {
              "type": "dataframe",
              "variable_name": "indie_df",
              "summary": "{\n  \"name\": \"indie_df\",\n  \"rows\": 0,\n  \"fields\": []\n}"
            }
          },
          "metadata": {},
          "execution_count": 12
        }
      ]
    },
    {
      "cell_type": "code",
      "source": [
        "# Flatten the nested dictionaries into a list of dictionaries\n",
        "tracks_list = [track for tracks in all_tracks_info.values() for track in tracks]\n",
        "\n",
        "# Create a DataFrame from the list of dictionaries\n",
        "rnb_df = pd.DataFrame(tracks_list)\n",
        "\n",
        "# Display the DataFrame to ensure it's correct\n",
        "rnb_df.head()"
      ],
      "metadata": {
        "colab": {
          "base_uri": "https://localhost:8080/",
          "height": 53
        },
        "id": "D-0dngGYHcgQ",
        "outputId": "dc1621c8-5902-4799-da93-c286c4bf09ab"
      },
      "execution_count": null,
      "outputs": [
        {
          "output_type": "execute_result",
          "data": {
            "text/plain": [
              "Empty DataFrame\n",
              "Columns: []\n",
              "Index: []"
            ],
            "text/html": [
              "\n",
              "  <div id=\"df-fc40911e-1638-4b3d-a2b0-0cec056b0690\" class=\"colab-df-container\">\n",
              "    <div>\n",
              "<style scoped>\n",
              "    .dataframe tbody tr th:only-of-type {\n",
              "        vertical-align: middle;\n",
              "    }\n",
              "\n",
              "    .dataframe tbody tr th {\n",
              "        vertical-align: top;\n",
              "    }\n",
              "\n",
              "    .dataframe thead th {\n",
              "        text-align: right;\n",
              "    }\n",
              "</style>\n",
              "<table border=\"1\" class=\"dataframe\">\n",
              "  <thead>\n",
              "    <tr style=\"text-align: right;\">\n",
              "      <th></th>\n",
              "    </tr>\n",
              "  </thead>\n",
              "  <tbody>\n",
              "  </tbody>\n",
              "</table>\n",
              "</div>\n",
              "    <div class=\"colab-df-buttons\">\n",
              "\n",
              "  <div class=\"colab-df-container\">\n",
              "    <button class=\"colab-df-convert\" onclick=\"convertToInteractive('df-fc40911e-1638-4b3d-a2b0-0cec056b0690')\"\n",
              "            title=\"Convert this dataframe to an interactive table.\"\n",
              "            style=\"display:none;\">\n",
              "\n",
              "  <svg xmlns=\"http://www.w3.org/2000/svg\" height=\"24px\" viewBox=\"0 -960 960 960\">\n",
              "    <path d=\"M120-120v-720h720v720H120Zm60-500h600v-160H180v160Zm220 220h160v-160H400v160Zm0 220h160v-160H400v160ZM180-400h160v-160H180v160Zm440 0h160v-160H620v160ZM180-180h160v-160H180v160Zm440 0h160v-160H620v160Z\"/>\n",
              "  </svg>\n",
              "    </button>\n",
              "\n",
              "  <style>\n",
              "    .colab-df-container {\n",
              "      display:flex;\n",
              "      gap: 12px;\n",
              "    }\n",
              "\n",
              "    .colab-df-convert {\n",
              "      background-color: #E8F0FE;\n",
              "      border: none;\n",
              "      border-radius: 50%;\n",
              "      cursor: pointer;\n",
              "      display: none;\n",
              "      fill: #1967D2;\n",
              "      height: 32px;\n",
              "      padding: 0 0 0 0;\n",
              "      width: 32px;\n",
              "    }\n",
              "\n",
              "    .colab-df-convert:hover {\n",
              "      background-color: #E2EBFA;\n",
              "      box-shadow: 0px 1px 2px rgba(60, 64, 67, 0.3), 0px 1px 3px 1px rgba(60, 64, 67, 0.15);\n",
              "      fill: #174EA6;\n",
              "    }\n",
              "\n",
              "    .colab-df-buttons div {\n",
              "      margin-bottom: 4px;\n",
              "    }\n",
              "\n",
              "    [theme=dark] .colab-df-convert {\n",
              "      background-color: #3B4455;\n",
              "      fill: #D2E3FC;\n",
              "    }\n",
              "\n",
              "    [theme=dark] .colab-df-convert:hover {\n",
              "      background-color: #434B5C;\n",
              "      box-shadow: 0px 1px 3px 1px rgba(0, 0, 0, 0.15);\n",
              "      filter: drop-shadow(0px 1px 2px rgba(0, 0, 0, 0.3));\n",
              "      fill: #FFFFFF;\n",
              "    }\n",
              "  </style>\n",
              "\n",
              "    <script>\n",
              "      const buttonEl =\n",
              "        document.querySelector('#df-fc40911e-1638-4b3d-a2b0-0cec056b0690 button.colab-df-convert');\n",
              "      buttonEl.style.display =\n",
              "        google.colab.kernel.accessAllowed ? 'block' : 'none';\n",
              "\n",
              "      async function convertToInteractive(key) {\n",
              "        const element = document.querySelector('#df-fc40911e-1638-4b3d-a2b0-0cec056b0690');\n",
              "        const dataTable =\n",
              "          await google.colab.kernel.invokeFunction('convertToInteractive',\n",
              "                                                    [key], {});\n",
              "        if (!dataTable) return;\n",
              "\n",
              "        const docLinkHtml = 'Like what you see? Visit the ' +\n",
              "          '<a target=\"_blank\" href=https://colab.research.google.com/notebooks/data_table.ipynb>data table notebook</a>'\n",
              "          + ' to learn more about interactive tables.';\n",
              "        element.innerHTML = '';\n",
              "        dataTable['output_type'] = 'display_data';\n",
              "        await google.colab.output.renderOutput(dataTable, element);\n",
              "        const docLink = document.createElement('div');\n",
              "        docLink.innerHTML = docLinkHtml;\n",
              "        element.appendChild(docLink);\n",
              "      }\n",
              "    </script>\n",
              "  </div>\n",
              "\n",
              "    </div>\n",
              "  </div>\n"
            ],
            "application/vnd.google.colaboratory.intrinsic+json": {
              "type": "dataframe",
              "variable_name": "rnb_df",
              "summary": "{\n  \"name\": \"rnb_df\",\n  \"rows\": 0,\n  \"fields\": []\n}"
            }
          },
          "metadata": {},
          "execution_count": 13
        }
      ]
    },
    {
      "cell_type": "code",
      "source": [
        "#time to make a big boy df\n",
        "big_boi = pd.read_csv(\"final_music_df.csv\")\n",
        "\n",
        "frames = [pop_df, indie_df, rnb_df, big_boi]\n",
        "chicken = pd.concat(frames)\n",
        "chicken.to_csv('biggie_boi.csv', index=False)"
      ],
      "metadata": {
        "id": "304ZyaNBRe7q",
        "colab": {
          "base_uri": "https://localhost:8080/",
          "height": 382
        },
        "outputId": "fa8a77cb-41cd-4bd6-95ff-4954332b4918"
      },
      "execution_count": null,
      "outputs": [
        {
          "output_type": "error",
          "ename": "FileNotFoundError",
          "evalue": "[Errno 2] No such file or directory: 'final_music_df .csv'",
          "traceback": [
            "\u001b[0;31m---------------------------------------------------------------------------\u001b[0m",
            "\u001b[0;31mFileNotFoundError\u001b[0m                         Traceback (most recent call last)",
            "\u001b[0;32m<ipython-input-14-503e05aa9bd4>\u001b[0m in \u001b[0;36m<cell line: 2>\u001b[0;34m()\u001b[0m\n\u001b[1;32m      1\u001b[0m \u001b[0;31m#time to make a big boy df\u001b[0m\u001b[0;34m\u001b[0m\u001b[0;34m\u001b[0m\u001b[0m\n\u001b[0;32m----> 2\u001b[0;31m \u001b[0mbig_boi\u001b[0m \u001b[0;34m=\u001b[0m \u001b[0mpd\u001b[0m\u001b[0;34m.\u001b[0m\u001b[0mread_csv\u001b[0m\u001b[0;34m(\u001b[0m\u001b[0;34m\"final_music_df .csv\"\u001b[0m\u001b[0;34m)\u001b[0m\u001b[0;34m\u001b[0m\u001b[0;34m\u001b[0m\u001b[0m\n\u001b[0m\u001b[1;32m      3\u001b[0m \u001b[0;34m\u001b[0m\u001b[0m\n\u001b[1;32m      4\u001b[0m \u001b[0mframes\u001b[0m \u001b[0;34m=\u001b[0m \u001b[0;34m[\u001b[0m\u001b[0mpop_df\u001b[0m\u001b[0;34m,\u001b[0m \u001b[0mindie_df\u001b[0m\u001b[0;34m,\u001b[0m \u001b[0mrnb_df\u001b[0m\u001b[0;34m,\u001b[0m \u001b[0mbig_boi\u001b[0m\u001b[0;34m]\u001b[0m\u001b[0;34m\u001b[0m\u001b[0;34m\u001b[0m\u001b[0m\n\u001b[1;32m      5\u001b[0m \u001b[0mchicken\u001b[0m \u001b[0;34m=\u001b[0m \u001b[0mpd\u001b[0m\u001b[0;34m.\u001b[0m\u001b[0mconcat\u001b[0m\u001b[0;34m(\u001b[0m\u001b[0mframes\u001b[0m\u001b[0;34m)\u001b[0m\u001b[0;34m\u001b[0m\u001b[0;34m\u001b[0m\u001b[0m\n",
            "\u001b[0;32m/usr/local/lib/python3.10/dist-packages/pandas/util/_decorators.py\u001b[0m in \u001b[0;36mwrapper\u001b[0;34m(*args, **kwargs)\u001b[0m\n\u001b[1;32m    209\u001b[0m                 \u001b[0;32melse\u001b[0m\u001b[0;34m:\u001b[0m\u001b[0;34m\u001b[0m\u001b[0;34m\u001b[0m\u001b[0m\n\u001b[1;32m    210\u001b[0m                     \u001b[0mkwargs\u001b[0m\u001b[0;34m[\u001b[0m\u001b[0mnew_arg_name\u001b[0m\u001b[0;34m]\u001b[0m \u001b[0;34m=\u001b[0m \u001b[0mnew_arg_value\u001b[0m\u001b[0;34m\u001b[0m\u001b[0;34m\u001b[0m\u001b[0m\n\u001b[0;32m--> 211\u001b[0;31m             \u001b[0;32mreturn\u001b[0m \u001b[0mfunc\u001b[0m\u001b[0;34m(\u001b[0m\u001b[0;34m*\u001b[0m\u001b[0margs\u001b[0m\u001b[0;34m,\u001b[0m \u001b[0;34m**\u001b[0m\u001b[0mkwargs\u001b[0m\u001b[0;34m)\u001b[0m\u001b[0;34m\u001b[0m\u001b[0;34m\u001b[0m\u001b[0m\n\u001b[0m\u001b[1;32m    212\u001b[0m \u001b[0;34m\u001b[0m\u001b[0m\n\u001b[1;32m    213\u001b[0m         \u001b[0;32mreturn\u001b[0m \u001b[0mcast\u001b[0m\u001b[0;34m(\u001b[0m\u001b[0mF\u001b[0m\u001b[0;34m,\u001b[0m \u001b[0mwrapper\u001b[0m\u001b[0;34m)\u001b[0m\u001b[0;34m\u001b[0m\u001b[0;34m\u001b[0m\u001b[0m\n",
            "\u001b[0;32m/usr/local/lib/python3.10/dist-packages/pandas/util/_decorators.py\u001b[0m in \u001b[0;36mwrapper\u001b[0;34m(*args, **kwargs)\u001b[0m\n\u001b[1;32m    329\u001b[0m                     \u001b[0mstacklevel\u001b[0m\u001b[0;34m=\u001b[0m\u001b[0mfind_stack_level\u001b[0m\u001b[0;34m(\u001b[0m\u001b[0;34m)\u001b[0m\u001b[0;34m,\u001b[0m\u001b[0;34m\u001b[0m\u001b[0;34m\u001b[0m\u001b[0m\n\u001b[1;32m    330\u001b[0m                 )\n\u001b[0;32m--> 331\u001b[0;31m             \u001b[0;32mreturn\u001b[0m \u001b[0mfunc\u001b[0m\u001b[0;34m(\u001b[0m\u001b[0;34m*\u001b[0m\u001b[0margs\u001b[0m\u001b[0;34m,\u001b[0m \u001b[0;34m**\u001b[0m\u001b[0mkwargs\u001b[0m\u001b[0;34m)\u001b[0m\u001b[0;34m\u001b[0m\u001b[0;34m\u001b[0m\u001b[0m\n\u001b[0m\u001b[1;32m    332\u001b[0m \u001b[0;34m\u001b[0m\u001b[0m\n\u001b[1;32m    333\u001b[0m         \u001b[0;31m# error: \"Callable[[VarArg(Any), KwArg(Any)], Any]\" has no\u001b[0m\u001b[0;34m\u001b[0m\u001b[0;34m\u001b[0m\u001b[0m\n",
            "\u001b[0;32m/usr/local/lib/python3.10/dist-packages/pandas/io/parsers/readers.py\u001b[0m in \u001b[0;36mread_csv\u001b[0;34m(filepath_or_buffer, sep, delimiter, header, names, index_col, usecols, squeeze, prefix, mangle_dupe_cols, dtype, engine, converters, true_values, false_values, skipinitialspace, skiprows, skipfooter, nrows, na_values, keep_default_na, na_filter, verbose, skip_blank_lines, parse_dates, infer_datetime_format, keep_date_col, date_parser, dayfirst, cache_dates, iterator, chunksize, compression, thousands, decimal, lineterminator, quotechar, quoting, doublequote, escapechar, comment, encoding, encoding_errors, dialect, error_bad_lines, warn_bad_lines, on_bad_lines, delim_whitespace, low_memory, memory_map, float_precision, storage_options)\u001b[0m\n\u001b[1;32m    948\u001b[0m     \u001b[0mkwds\u001b[0m\u001b[0;34m.\u001b[0m\u001b[0mupdate\u001b[0m\u001b[0;34m(\u001b[0m\u001b[0mkwds_defaults\u001b[0m\u001b[0;34m)\u001b[0m\u001b[0;34m\u001b[0m\u001b[0;34m\u001b[0m\u001b[0m\n\u001b[1;32m    949\u001b[0m \u001b[0;34m\u001b[0m\u001b[0m\n\u001b[0;32m--> 950\u001b[0;31m     \u001b[0;32mreturn\u001b[0m \u001b[0m_read\u001b[0m\u001b[0;34m(\u001b[0m\u001b[0mfilepath_or_buffer\u001b[0m\u001b[0;34m,\u001b[0m \u001b[0mkwds\u001b[0m\u001b[0;34m)\u001b[0m\u001b[0;34m\u001b[0m\u001b[0;34m\u001b[0m\u001b[0m\n\u001b[0m\u001b[1;32m    951\u001b[0m \u001b[0;34m\u001b[0m\u001b[0m\n\u001b[1;32m    952\u001b[0m \u001b[0;34m\u001b[0m\u001b[0m\n",
            "\u001b[0;32m/usr/local/lib/python3.10/dist-packages/pandas/io/parsers/readers.py\u001b[0m in \u001b[0;36m_read\u001b[0;34m(filepath_or_buffer, kwds)\u001b[0m\n\u001b[1;32m    603\u001b[0m \u001b[0;34m\u001b[0m\u001b[0m\n\u001b[1;32m    604\u001b[0m     \u001b[0;31m# Create the parser.\u001b[0m\u001b[0;34m\u001b[0m\u001b[0;34m\u001b[0m\u001b[0m\n\u001b[0;32m--> 605\u001b[0;31m     \u001b[0mparser\u001b[0m \u001b[0;34m=\u001b[0m \u001b[0mTextFileReader\u001b[0m\u001b[0;34m(\u001b[0m\u001b[0mfilepath_or_buffer\u001b[0m\u001b[0;34m,\u001b[0m \u001b[0;34m**\u001b[0m\u001b[0mkwds\u001b[0m\u001b[0;34m)\u001b[0m\u001b[0;34m\u001b[0m\u001b[0;34m\u001b[0m\u001b[0m\n\u001b[0m\u001b[1;32m    606\u001b[0m \u001b[0;34m\u001b[0m\u001b[0m\n\u001b[1;32m    607\u001b[0m     \u001b[0;32mif\u001b[0m \u001b[0mchunksize\u001b[0m \u001b[0;32mor\u001b[0m \u001b[0miterator\u001b[0m\u001b[0;34m:\u001b[0m\u001b[0;34m\u001b[0m\u001b[0;34m\u001b[0m\u001b[0m\n",
            "\u001b[0;32m/usr/local/lib/python3.10/dist-packages/pandas/io/parsers/readers.py\u001b[0m in \u001b[0;36m__init__\u001b[0;34m(self, f, engine, **kwds)\u001b[0m\n\u001b[1;32m   1440\u001b[0m \u001b[0;34m\u001b[0m\u001b[0m\n\u001b[1;32m   1441\u001b[0m         \u001b[0mself\u001b[0m\u001b[0;34m.\u001b[0m\u001b[0mhandles\u001b[0m\u001b[0;34m:\u001b[0m \u001b[0mIOHandles\u001b[0m \u001b[0;34m|\u001b[0m \u001b[0;32mNone\u001b[0m \u001b[0;34m=\u001b[0m \u001b[0;32mNone\u001b[0m\u001b[0;34m\u001b[0m\u001b[0;34m\u001b[0m\u001b[0m\n\u001b[0;32m-> 1442\u001b[0;31m         \u001b[0mself\u001b[0m\u001b[0;34m.\u001b[0m\u001b[0m_engine\u001b[0m \u001b[0;34m=\u001b[0m \u001b[0mself\u001b[0m\u001b[0;34m.\u001b[0m\u001b[0m_make_engine\u001b[0m\u001b[0;34m(\u001b[0m\u001b[0mf\u001b[0m\u001b[0;34m,\u001b[0m \u001b[0mself\u001b[0m\u001b[0;34m.\u001b[0m\u001b[0mengine\u001b[0m\u001b[0;34m)\u001b[0m\u001b[0;34m\u001b[0m\u001b[0;34m\u001b[0m\u001b[0m\n\u001b[0m\u001b[1;32m   1443\u001b[0m \u001b[0;34m\u001b[0m\u001b[0m\n\u001b[1;32m   1444\u001b[0m     \u001b[0;32mdef\u001b[0m \u001b[0mclose\u001b[0m\u001b[0;34m(\u001b[0m\u001b[0mself\u001b[0m\u001b[0;34m)\u001b[0m \u001b[0;34m->\u001b[0m \u001b[0;32mNone\u001b[0m\u001b[0;34m:\u001b[0m\u001b[0;34m\u001b[0m\u001b[0;34m\u001b[0m\u001b[0m\n",
            "\u001b[0;32m/usr/local/lib/python3.10/dist-packages/pandas/io/parsers/readers.py\u001b[0m in \u001b[0;36m_make_engine\u001b[0;34m(self, f, engine)\u001b[0m\n\u001b[1;32m   1733\u001b[0m                 \u001b[0;32mif\u001b[0m \u001b[0;34m\"b\"\u001b[0m \u001b[0;32mnot\u001b[0m \u001b[0;32min\u001b[0m \u001b[0mmode\u001b[0m\u001b[0;34m:\u001b[0m\u001b[0;34m\u001b[0m\u001b[0;34m\u001b[0m\u001b[0m\n\u001b[1;32m   1734\u001b[0m                     \u001b[0mmode\u001b[0m \u001b[0;34m+=\u001b[0m \u001b[0;34m\"b\"\u001b[0m\u001b[0;34m\u001b[0m\u001b[0;34m\u001b[0m\u001b[0m\n\u001b[0;32m-> 1735\u001b[0;31m             self.handles = get_handle(\n\u001b[0m\u001b[1;32m   1736\u001b[0m                 \u001b[0mf\u001b[0m\u001b[0;34m,\u001b[0m\u001b[0;34m\u001b[0m\u001b[0;34m\u001b[0m\u001b[0m\n\u001b[1;32m   1737\u001b[0m                 \u001b[0mmode\u001b[0m\u001b[0;34m,\u001b[0m\u001b[0;34m\u001b[0m\u001b[0;34m\u001b[0m\u001b[0m\n",
            "\u001b[0;32m/usr/local/lib/python3.10/dist-packages/pandas/io/common.py\u001b[0m in \u001b[0;36mget_handle\u001b[0;34m(path_or_buf, mode, encoding, compression, memory_map, is_text, errors, storage_options)\u001b[0m\n\u001b[1;32m    854\u001b[0m         \u001b[0;32mif\u001b[0m \u001b[0mioargs\u001b[0m\u001b[0;34m.\u001b[0m\u001b[0mencoding\u001b[0m \u001b[0;32mand\u001b[0m \u001b[0;34m\"b\"\u001b[0m \u001b[0;32mnot\u001b[0m \u001b[0;32min\u001b[0m \u001b[0mioargs\u001b[0m\u001b[0;34m.\u001b[0m\u001b[0mmode\u001b[0m\u001b[0;34m:\u001b[0m\u001b[0;34m\u001b[0m\u001b[0;34m\u001b[0m\u001b[0m\n\u001b[1;32m    855\u001b[0m             \u001b[0;31m# Encoding\u001b[0m\u001b[0;34m\u001b[0m\u001b[0;34m\u001b[0m\u001b[0m\n\u001b[0;32m--> 856\u001b[0;31m             handle = open(\n\u001b[0m\u001b[1;32m    857\u001b[0m                 \u001b[0mhandle\u001b[0m\u001b[0;34m,\u001b[0m\u001b[0;34m\u001b[0m\u001b[0;34m\u001b[0m\u001b[0m\n\u001b[1;32m    858\u001b[0m                 \u001b[0mioargs\u001b[0m\u001b[0;34m.\u001b[0m\u001b[0mmode\u001b[0m\u001b[0;34m,\u001b[0m\u001b[0;34m\u001b[0m\u001b[0;34m\u001b[0m\u001b[0m\n",
            "\u001b[0;31mFileNotFoundError\u001b[0m: [Errno 2] No such file or directory: 'final_music_df .csv'"
          ]
        }
      ]
    },
    {
      "cell_type": "markdown",
      "source": [
        "# Get the other spotify characteristics"
      ],
      "metadata": {
        "id": "Ya3DpzQQPKV-"
      }
    },
    {
      "cell_type": "code",
      "source": [
        "import requests\n",
        "\n",
        "def get_top_tracks_for_artist(access_token, artist_id, market='US', limit=10):\n",
        "    url = f\"https://api.spotify.com/v1/artists/{artist_id}/top-tracks?market={market}\"\n",
        "    headers = {\"Authorization\": f\"Bearer {access_token}\"}\n",
        "    response = requests.get(url, headers=headers)\n",
        "    response_json = response.json()\n",
        "    if 'tracks' not in response_json:\n",
        "        print('Error fetching tracks:', response_json.get('error', 'Unknown Error'))\n",
        "        return []\n",
        "    return response_json['tracks']\n",
        "\n",
        "def get_audio_features_for_track(access_token, track_id):\n",
        "    url = f\"https://api.spotify.com/v1/audio-features/{track_id}\"\n",
        "    headers = {\"Authorization\": f\"Bearer {access_token}\"}\n",
        "    response = requests.get(url, headers=headers)\n",
        "    response_json = response.json()\n",
        "    if 'error' in response_json:\n",
        "        print('Error fetching audio features:', response_json.get('error', {}).get('message', 'Unknown Error'))\n",
        "        return {}\n",
        "    return response_json\n",
        "\n",
        "# Example usage\n",
        "access_token = 'BQBaTr9tGvv4GXH_AJijt3UyORRoTjlc8GuLLUn2-Pw8nWKVPkQ3htj0DqjplT_9Wlr4SnAtFsiG8EJDwskcU-hM5S1mFvQZm5RrTZVsNImlf7zZ94A' # Replace with your actual access token\n",
        "artist_ids = ['ARTIST_ID_1', 'ARTIST_ID_2'] # Replace with actual artist IDs\n",
        "\n",
        "for artist_id in artist_ids:\n",
        "    top_tracks = get_top_tracks_for_artist(access_token, artist_id)\n",
        "    for track in top_tracks:\n",
        "        print(f\"- {track['name']} (Popularity: {track['popularity']})\")\n",
        "        track_features = get_audio_features_for_track(access_token, track['id'])\n",
        "        print(f\"Audio Features: {track_features}\\n\")\n"
      ],
      "metadata": {
        "id": "98Km69pbMEwZ"
      },
      "execution_count": null,
      "outputs": []
    },
    {
      "cell_type": "code",
      "source": [
        "# Define your Genius API key here\n",
        "GENIUS_API_KEY = 'your_genius_api_key_here'\n",
        "\n",
        "def get_song_id(song_name, artist_name):\n",
        "    base_url = \"http://api.genius.com\"\n",
        "    headers = {'Authorization': 'Bearer ' + GENIUS_API_KEY}\n",
        "    search_url = base_url + \"/search\"\n",
        "    data = {'q': song_name + ' ' + artist_name}\n",
        "    response = requests.get(search_url, data=data, headers=headers)\n",
        "\n",
        "    if response.status_code == 200:\n",
        "        response_json = response.json()\n",
        "        hits = response_json['response']['hits']\n",
        "\n",
        "        # If there are no songs found in the hits, return None\n",
        "        if not hits:\n",
        "            return None\n",
        "\n",
        "        # Often, the first hit is the song you're looking for\n",
        "        for hit in hits:\n",
        "            if hit['result']['primary_artist']['name'].lower() == artist_name.lower():\n",
        "                return hit['result']['id']\n",
        "\n",
        "    return None\n",
        "\n",
        "def get_lyrics_from_id(song_id):\n",
        "    base_url = \"http://api.genius.com\"\n",
        "    headers = {'Authorization': 'Bearer ' + GENIUS_API_KEY}\n",
        "    song_url = base_url + f\"/songs/{song_id}\"\n",
        "    response = requests.get(song_url, headers=headers)\n",
        "\n",
        "    if response.status_code == 200:\n",
        "        response_json = response.json()\n",
        "        path = response_json['response']['song']['path']\n",
        "\n",
        "        # Constructing the URL to the song's lyrics page\n",
        "        lyrics_url = \"http://genius.com\" + path\n",
        "        page = requests.get(lyrics_url)\n",
        "\n",
        "        # Here you would need to parse the page to find the lyrics.\n",
        "        # This will require HTML parsing and possibly dealing with JavaScript-rendered pages.\n",
        "        # This can get complex and is highly dependent on the structure of the Genius lyrics page.\n",
        "\n",
        "        # For example, you might use BeautifulSoup to parse the HTML as follows:\n",
        "        # (This is illustrative and might not work directly due to Genius page structures or changes in their layout)\n",
        "        from bs4 import BeautifulSoup\n",
        "        html = BeautifulSoup(page.text, \"html.parser\")\n",
        "        [h.extract() for h in html('script')]  # Remove script tags\n",
        "        lyrics_div = html.find(\"div\", class_=\"lyrics\")\n",
        "        if lyrics_div:\n",
        "            return lyrics_div.get_text()\n",
        "\n",
        "    return None\n",
        "\n",
        "def get_lyrics_for_song(song_name, artist_name):\n",
        "    song_id = get_song_id(song_name, artist_name)\n",
        "    if song_id:\n",
        "        return get_lyrics_from_id(song_id)\n",
        "    else:\n",
        "        return None\n",
        "\n",
        "# Example usage\n",
        "# lyrics = get_lyrics_for_song(\"Someone Like You\", \"Adele\")\n",
        "# print(lyrics)\n"
      ],
      "metadata": {
        "id": "DJJfwjrj3Rup"
      },
      "execution_count": null,
      "outputs": []
    },
    {
      "cell_type": "code",
      "source": [
        "import pandas as pd\n",
        "\n",
        "def get_lyrics_for_song(song_name, artist_name):\n",
        "    # This function should implement the API call to a lyrics service\n",
        "    # and return the lyrics for the given song and artist.\n",
        "    # You need to refer to the documentation of the service you're using.\n",
        "    pass\n",
        "\n",
        "# Create an empty list to store song data\n",
        "songs_data = []\n",
        "\n",
        "# Loop through your artist and songs data structure\n",
        "for artist_id, artist_info in all_genres_top_artists.items():\n",
        "    genre = artist_info['genre']\n",
        "    artist_name = artist_info['name']\n",
        "    for song in artist_info['top_tracks']:\n",
        "        song_name = song['name']\n",
        "        # Fetch lyrics for each song\n",
        "        lyrics = get_lyrics_for_song(song_name, artist_name)\n",
        "        # Append a dictionary with the song data to the list\n",
        "        songs_data.append({\n",
        "            'genre': genre,\n",
        "            'artist': artist_name,\n",
        "            'song name': song_name,\n",
        "            'songlyrics': lyrics\n",
        "        })\n",
        "\n",
        "# Convert the list of song data into a pandas DataFrame\n",
        "songs_df = pd.DataFrame(songs_data)\n",
        "\n",
        "# Assuming you've set up pandas and DataFrame is what you're working with\n",
        "print(songs_df.head())  # This prints the first few rows of your DataFrame\n"
      ],
      "metadata": {
        "id": "je3MakvJ2zzt"
      },
      "execution_count": null,
      "outputs": []
    }
  ]
}